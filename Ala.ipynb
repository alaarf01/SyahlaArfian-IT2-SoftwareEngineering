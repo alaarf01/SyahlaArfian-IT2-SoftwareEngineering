{
  "nbformat": 4,
  "nbformat_minor": 0,
  "metadata": {
    "colab": {
      "name": "Ala.ipynb",
      "provenance": [],
      "collapsed_sections": []
    },
    "kernelspec": {
      "name": "python3",
      "display_name": "Python 3"
    },
    "language_info": {
      "name": "python"
    }
  },
  "cells": [
    {
      "cell_type": "code",
      "metadata": {
        "id": "TthD9TWqcjRc"
      },
      "source": [
        " # Dictionary\n",
        " # Tuple\n",
        " # If else\n",
        " # Looping\n",
        " # Function"
      ],
      "execution_count": null,
      "outputs": []
    },
    {
      "cell_type": "code",
      "metadata": {
        "colab": {
          "base_uri": "https://localhost:8080/"
        },
        "id": "Xl7SIcE2eMpx",
        "outputId": "20a878c1-b0e3-48aa-c4e6-494e24b631c1"
      },
      "source": [
        "#List\n",
        "contoh_list = [\"Haechan\", 12, 12.0, [1,2,3], {}, (), True]\n",
        "print(contoh_list[0])\n",
        "print(contoh_list[-1])\n",
        "#Dictionary\n",
        "contoh_dict = {1:\"Haechan\", \"hai\":12, False:12.0, 2:[1,2,3], 20.1:{}, 20.2:(), \"hoho\":True}\n",
        "print(contoh_dict[1])\n",
        "print(contoh_dict[False])\n",
        "print(contoh_dict[\"hoho\"])"
      ],
      "execution_count": 4,
      "outputs": [
        {
          "output_type": "stream",
          "name": "stdout",
          "text": [
            "Haechan\n",
            "True\n",
            "Haechan\n",
            "12.0\n",
            "True\n"
          ]
        }
      ]
    },
    {
      "cell_type": "code",
      "metadata": {
        "colab": {
          "base_uri": "https://localhost:8080/"
        },
        "id": "9BkpRAUSti13",
        "outputId": "6b9f5800-7a4c-4d88-c753-bc46f971ca09"
      },
      "source": [
        "print(contoh_dict[\"hai\"])"
      ],
      "execution_count": 5,
      "outputs": [
        {
          "output_type": "stream",
          "name": "stdout",
          "text": [
            "12\n"
          ]
        }
      ]
    },
    {
      "cell_type": "code",
      "metadata": {
        "colab": {
          "base_uri": "https://localhost:8080/"
        },
        "id": "OHsTY-AouZ6F",
        "outputId": "6e060eb4-5320-441c-99ff-26ba9877f5c4"
      },
      "source": [
        "#manggil key di dictionary\n",
        "contoh_dict.keys()\n",
        "\n"
      ],
      "execution_count": 6,
      "outputs": [
        {
          "output_type": "execute_result",
          "data": {
            "text/plain": [
              "dict_keys([1, 'hai', False, 2, 20.1, 20.2, 'hoho'])"
            ]
          },
          "metadata": {},
          "execution_count": 6
        }
      ]
    },
    {
      "cell_type": "code",
      "metadata": {
        "colab": {
          "base_uri": "https://localhost:8080/"
        },
        "id": "ld_pgmYIuedU",
        "outputId": "698a4eab-654e-40c1-8b25-7d0e3a596d73"
      },
      "source": [
        "contoh_list.append(\"Shotaro\")\n",
        "contoh_list\n"
      ],
      "execution_count": 7,
      "outputs": [
        {
          "output_type": "execute_result",
          "data": {
            "text/plain": [
              "['Haechan', 12, 12.0, [1, 2, 3], {}, (), True, 'Shotaro']"
            ]
          },
          "metadata": {},
          "execution_count": 7
        }
      ]
    },
    {
      "cell_type": "code",
      "metadata": {
        "id": "lFdeU13Nu0Cn"
      },
      "source": [
        "contoh_list.insert(3, \"Johnny\")"
      ],
      "execution_count": 8,
      "outputs": []
    },
    {
      "cell_type": "code",
      "metadata": {
        "colab": {
          "base_uri": "https://localhost:8080/"
        },
        "id": "bxiYo5Wvu_mW",
        "outputId": "d3c994e2-984f-4900-a41f-d94547ad6180"
      },
      "source": [
        "contoh_list"
      ],
      "execution_count": 9,
      "outputs": [
        {
          "output_type": "execute_result",
          "data": {
            "text/plain": [
              "['Haechan', 12, 12.0, 'Johnny', [1, 2, 3], {}, (), True, 'Shotaro']"
            ]
          },
          "metadata": {},
          "execution_count": 9
        }
      ]
    },
    {
      "cell_type": "code",
      "metadata": {
        "id": "R7zCuAmFvLJf"
      },
      "source": [
        "list_angka = [1,4,7,9,0]\n",
        "list_angka.sort() #dari kecil ke besar"
      ],
      "execution_count": 10,
      "outputs": []
    },
    {
      "cell_type": "code",
      "metadata": {
        "id": "oxcFSBCzwkGy"
      },
      "source": [
        "list_angka.sort(reverse= True) #dari besar ke kecil"
      ],
      "execution_count": 21,
      "outputs": []
    },
    {
      "cell_type": "code",
      "metadata": {
        "colab": {
          "base_uri": "https://localhost:8080/"
        },
        "id": "hwReF-B2vUGD",
        "outputId": "1fd89f32-4311-46a4-8e61-ab00da720ad4"
      },
      "source": [
        "list_angka"
      ],
      "execution_count": 11,
      "outputs": [
        {
          "output_type": "execute_result",
          "data": {
            "text/plain": [
              "[0, 1, 4, 7, 9]"
            ]
          },
          "metadata": {},
          "execution_count": 11
        }
      ]
    },
    {
      "cell_type": "code",
      "metadata": {
        "colab": {
          "base_uri": "https://localhost:8080/"
        },
        "id": "i-cS1Qa6vW06",
        "outputId": "1b41613a-1b8b-4d3b-af7a-773b9570f945"
      },
      "source": [
        "list_angka.pop() #hilangin yg paling akhir\n"
      ],
      "execution_count": 16,
      "outputs": [
        {
          "output_type": "execute_result",
          "data": {
            "text/plain": [
              "4"
            ]
          },
          "metadata": {},
          "execution_count": 16
        }
      ]
    },
    {
      "cell_type": "code",
      "metadata": {
        "colab": {
          "base_uri": "https://localhost:8080/"
        },
        "id": "iySruQcUzNLR",
        "outputId": "f5eb4171-6b9a-4aef-88db-9fd7880b9605"
      },
      "source": [
        "list_angka"
      ],
      "execution_count": 20,
      "outputs": [
        {
          "output_type": "execute_result",
          "data": {
            "text/plain": [
              "[0, 1]"
            ]
          },
          "metadata": {},
          "execution_count": 20
        }
      ]
    },
    {
      "cell_type": "code",
      "metadata": {
        "colab": {
          "base_uri": "https://localhost:8080/"
        },
        "id": "5xVSK-nvzmmN",
        "outputId": "3f869df6-e40f-4622-cc16-ae8362aa2e40"
      },
      "source": [
        "#CONDITIONAL STATEMENT\n",
        "a = 13\n",
        "b = 2\n",
        "#OPERATOR\n",
        "print(a+b)#15\n",
        "print(a-b) #11\n",
        "print(a*b) #26\n",
        "print(a/b) #hasilnya float -> float division = 6.5\n",
        "print(a//b) # hasilnya integer -> integer division = 6\n",
        "print(a**b) #169\n",
        "print(a%b) #1\n",
        "\n",
        "#CONDITIONAL STATEMENT \n",
        "print(a<b) #False\n",
        "print(a>b) #True\n",
        "print(a<=b) #True\n",
        "print(a!=b) #True\n",
        "print(True and True) #True\n",
        "print(True and False) #False\n",
        "print(True or True) #True\n",
        "print(True or False) #False\n",
        "#a==b perbandingan\n",
        "#a=b #deklarasi variabel"
      ],
      "execution_count": 22,
      "outputs": [
        {
          "output_type": "stream",
          "name": "stdout",
          "text": [
            "15\n",
            "11\n",
            "26\n",
            "6.5\n",
            "6\n",
            "169\n",
            "1\n",
            "False\n",
            "True\n",
            "False\n",
            "True\n",
            "True\n",
            "False\n",
            "True\n",
            "True\n"
          ]
        }
      ]
    },
    {
      "cell_type": "code",
      "metadata": {
        "colab": {
          "base_uri": "https://localhost:8080/",
          "height": 129
        },
        "id": "iuciJYJg08gy",
        "outputId": "2c211453-3e18-40b9-80e9-78231235b696"
      },
      "source": [
        "if a<b:\n",
        "    print(\"a lebih kecil dari b\") #didalam if pake \"tab\"\n",
        "elif a>b:\n",
        "    print(\"a lebih besar dari b\")\n",
        "else:\n",
        "    print(\"\")\n",
        "print(\"ini diluar if\") #selalu berjalan tanpa terpengaruh\n",
        "\n",
        "a = 10\n",
        "b = 5\n",
        "c = 7\n",
        "\n",
        "if a < b:\n",
        "  print(\"a lebih kecil dari b\")\n",
        "elif c == b:\n",
        "  ## jangan dipakai"
      ],
      "execution_count": 23,
      "outputs": [
        {
          "output_type": "error",
          "ename": "SyntaxError",
          "evalue": "ignored",
          "traceback": [
            "\u001b[0;36m  File \u001b[0;32m\"<ipython-input-23-ce9d74e774b5>\"\u001b[0;36m, line \u001b[0;32m16\u001b[0m\n\u001b[0;31m    ## jangan dipakai\u001b[0m\n\u001b[0m                     ^\u001b[0m\n\u001b[0;31mSyntaxError\u001b[0m\u001b[0;31m:\u001b[0m unexpected EOF while parsing\n"
          ]
        }
      ]
    },
    {
      "cell_type": "code",
      "metadata": {
        "colab": {
          "base_uri": "https://localhost:8080/"
        },
        "id": "VwBUheAm1Xta",
        "outputId": "6e4733ae-4fde-4758-94be-36a1aa9dd65f"
      },
      "source": [
        "a = 10\n",
        "b = 5\n",
        "c = 7\n",
        "\n",
        "if a>b and a>c:\n",
        "    print(\"a adalah nilai terbesar\") #didalam if pake \"tab\"\n",
        "elif b>a and b>c:\n",
        "    print(\"b adalah nilai terbesar\")\n",
        "elif c>a and c>b:\n",
        "    print(\"c adalah nilai terbesar\")\n",
        "else:\n",
        "    print(\"semua nilai sama\")"
      ],
      "execution_count": 24,
      "outputs": [
        {
          "output_type": "stream",
          "name": "stdout",
          "text": [
            "a adalah nilai terbesar\n"
          ]
        }
      ]
    },
    {
      "cell_type": "code",
      "metadata": {
        "colab": {
          "base_uri": "https://localhost:8080/"
        },
        "id": "XI6Nysbf1f6q",
        "outputId": "027eed5e-2b47-4f0d-a0ed-0ab10375f0a2"
      },
      "source": [
        "#looping\n",
        "a = 10\n",
        "b = 5\n",
        "while b<a:\n",
        "  print(\"b masih lebih kecil dari a\")\n",
        "  print(b)\n",
        "  b +=1"
      ],
      "execution_count": 25,
      "outputs": [
        {
          "output_type": "stream",
          "name": "stdout",
          "text": [
            "b masih lebih kecil dari a\n",
            "5\n",
            "b masih lebih kecil dari a\n",
            "6\n",
            "b masih lebih kecil dari a\n",
            "7\n",
            "b masih lebih kecil dari a\n",
            "8\n",
            "b masih lebih kecil dari a\n",
            "9\n"
          ]
        }
      ]
    },
    {
      "cell_type": "code",
      "metadata": {
        "colab": {
          "base_uri": "https://localhost:8080/"
        },
        "id": "LhweqkA81kMT",
        "outputId": "6787d769-3dd8-4242-fc63-cb11863c01d0"
      },
      "source": [
        "#forever loop\n",
        "while True:\n",
        "  umur = int(input(\"masukan umur anda:\"))\n",
        "  if umur < 30 :\n",
        "    break\n",
        "\n"
      ],
      "execution_count": 28,
      "outputs": [
        {
          "name": "stdout",
          "output_type": "stream",
          "text": [
            "masukan umur anda:30\n",
            "masukan umur anda:19\n"
          ]
        }
      ]
    },
    {
      "cell_type": "code",
      "metadata": {
        "colab": {
          "base_uri": "https://localhost:8080/"
        },
        "id": "f8WAGhwW1vIM",
        "outputId": "c5dcde4d-5c71-4186-f7e6-c40a02dc33aa"
      },
      "source": [
        "for i in range(3,22):\n",
        "  print(i)"
      ],
      "execution_count": 29,
      "outputs": [
        {
          "output_type": "stream",
          "name": "stdout",
          "text": [
            "3\n",
            "4\n",
            "5\n",
            "6\n",
            "7\n",
            "8\n",
            "9\n",
            "10\n",
            "11\n",
            "12\n",
            "13\n",
            "14\n",
            "15\n",
            "16\n",
            "17\n",
            "18\n",
            "19\n",
            "20\n",
            "21\n"
          ]
        }
      ]
    },
    {
      "cell_type": "code",
      "metadata": {
        "colab": {
          "base_uri": "https://localhost:8080/"
        },
        "id": "0DpiiWY41-tf",
        "outputId": "71dfb38b-7ec3-4b99-a312-0d0ab62e4224"
      },
      "source": [
        "#for else\n",
        "for i in range(2,200,2):\n",
        "  print(i)\n",
        "  if i == 19:\n",
        "    break\n",
        "  else:\n",
        "    print(\"nilai ganjil terdekat\")\n"
      ],
      "execution_count": 30,
      "outputs": [
        {
          "output_type": "stream",
          "name": "stdout",
          "text": [
            "2\n",
            "nilai ganjil terdekat\n",
            "4\n",
            "nilai ganjil terdekat\n",
            "6\n",
            "nilai ganjil terdekat\n",
            "8\n",
            "nilai ganjil terdekat\n",
            "10\n",
            "nilai ganjil terdekat\n",
            "12\n",
            "nilai ganjil terdekat\n",
            "14\n",
            "nilai ganjil terdekat\n",
            "16\n",
            "nilai ganjil terdekat\n",
            "18\n",
            "nilai ganjil terdekat\n",
            "20\n",
            "nilai ganjil terdekat\n",
            "22\n",
            "nilai ganjil terdekat\n",
            "24\n",
            "nilai ganjil terdekat\n",
            "26\n",
            "nilai ganjil terdekat\n",
            "28\n",
            "nilai ganjil terdekat\n",
            "30\n",
            "nilai ganjil terdekat\n",
            "32\n",
            "nilai ganjil terdekat\n",
            "34\n",
            "nilai ganjil terdekat\n",
            "36\n",
            "nilai ganjil terdekat\n",
            "38\n",
            "nilai ganjil terdekat\n",
            "40\n",
            "nilai ganjil terdekat\n",
            "42\n",
            "nilai ganjil terdekat\n",
            "44\n",
            "nilai ganjil terdekat\n",
            "46\n",
            "nilai ganjil terdekat\n",
            "48\n",
            "nilai ganjil terdekat\n",
            "50\n",
            "nilai ganjil terdekat\n",
            "52\n",
            "nilai ganjil terdekat\n",
            "54\n",
            "nilai ganjil terdekat\n",
            "56\n",
            "nilai ganjil terdekat\n",
            "58\n",
            "nilai ganjil terdekat\n",
            "60\n",
            "nilai ganjil terdekat\n",
            "62\n",
            "nilai ganjil terdekat\n",
            "64\n",
            "nilai ganjil terdekat\n",
            "66\n",
            "nilai ganjil terdekat\n",
            "68\n",
            "nilai ganjil terdekat\n",
            "70\n",
            "nilai ganjil terdekat\n",
            "72\n",
            "nilai ganjil terdekat\n",
            "74\n",
            "nilai ganjil terdekat\n",
            "76\n",
            "nilai ganjil terdekat\n",
            "78\n",
            "nilai ganjil terdekat\n",
            "80\n",
            "nilai ganjil terdekat\n",
            "82\n",
            "nilai ganjil terdekat\n",
            "84\n",
            "nilai ganjil terdekat\n",
            "86\n",
            "nilai ganjil terdekat\n",
            "88\n",
            "nilai ganjil terdekat\n",
            "90\n",
            "nilai ganjil terdekat\n",
            "92\n",
            "nilai ganjil terdekat\n",
            "94\n",
            "nilai ganjil terdekat\n",
            "96\n",
            "nilai ganjil terdekat\n",
            "98\n",
            "nilai ganjil terdekat\n",
            "100\n",
            "nilai ganjil terdekat\n",
            "102\n",
            "nilai ganjil terdekat\n",
            "104\n",
            "nilai ganjil terdekat\n",
            "106\n",
            "nilai ganjil terdekat\n",
            "108\n",
            "nilai ganjil terdekat\n",
            "110\n",
            "nilai ganjil terdekat\n",
            "112\n",
            "nilai ganjil terdekat\n",
            "114\n",
            "nilai ganjil terdekat\n",
            "116\n",
            "nilai ganjil terdekat\n",
            "118\n",
            "nilai ganjil terdekat\n",
            "120\n",
            "nilai ganjil terdekat\n",
            "122\n",
            "nilai ganjil terdekat\n",
            "124\n",
            "nilai ganjil terdekat\n",
            "126\n",
            "nilai ganjil terdekat\n",
            "128\n",
            "nilai ganjil terdekat\n",
            "130\n",
            "nilai ganjil terdekat\n",
            "132\n",
            "nilai ganjil terdekat\n",
            "134\n",
            "nilai ganjil terdekat\n",
            "136\n",
            "nilai ganjil terdekat\n",
            "138\n",
            "nilai ganjil terdekat\n",
            "140\n",
            "nilai ganjil terdekat\n",
            "142\n",
            "nilai ganjil terdekat\n",
            "144\n",
            "nilai ganjil terdekat\n",
            "146\n",
            "nilai ganjil terdekat\n",
            "148\n",
            "nilai ganjil terdekat\n",
            "150\n",
            "nilai ganjil terdekat\n",
            "152\n",
            "nilai ganjil terdekat\n",
            "154\n",
            "nilai ganjil terdekat\n",
            "156\n",
            "nilai ganjil terdekat\n",
            "158\n",
            "nilai ganjil terdekat\n",
            "160\n",
            "nilai ganjil terdekat\n",
            "162\n",
            "nilai ganjil terdekat\n",
            "164\n",
            "nilai ganjil terdekat\n",
            "166\n",
            "nilai ganjil terdekat\n",
            "168\n",
            "nilai ganjil terdekat\n",
            "170\n",
            "nilai ganjil terdekat\n",
            "172\n",
            "nilai ganjil terdekat\n",
            "174\n",
            "nilai ganjil terdekat\n",
            "176\n",
            "nilai ganjil terdekat\n",
            "178\n",
            "nilai ganjil terdekat\n",
            "180\n",
            "nilai ganjil terdekat\n",
            "182\n",
            "nilai ganjil terdekat\n",
            "184\n",
            "nilai ganjil terdekat\n",
            "186\n",
            "nilai ganjil terdekat\n",
            "188\n",
            "nilai ganjil terdekat\n",
            "190\n",
            "nilai ganjil terdekat\n",
            "192\n",
            "nilai ganjil terdekat\n",
            "194\n",
            "nilai ganjil terdekat\n",
            "196\n",
            "nilai ganjil terdekat\n",
            "198\n",
            "nilai ganjil terdekat\n"
          ]
        }
      ]
    },
    {
      "cell_type": "code",
      "metadata": {
        "colab": {
          "base_uri": "https://localhost:8080/",
          "height": 129
        },
        "id": "CtmB0HrG2EXK",
        "outputId": "a6d38c42-94b9-4bc7-b0b7-f4dcf13d7e39"
      },
      "source": [
        "\n",
        "\n",
        "for(int i = 3; i < 22; i += 2)"
      ],
      "execution_count": 33,
      "outputs": [
        {
          "output_type": "error",
          "ename": "SyntaxError",
          "evalue": "ignored",
          "traceback": [
            "\u001b[0;36m  File \u001b[0;32m\"<ipython-input-33-4f6ef2b1374b>\"\u001b[0;36m, line \u001b[0;32m3\u001b[0m\n\u001b[0;31m    for(int i = 3; i < 22; i += 2)\u001b[0m\n\u001b[0m            ^\u001b[0m\n\u001b[0;31mSyntaxError\u001b[0m\u001b[0;31m:\u001b[0m invalid syntax\n"
          ]
        }
      ]
    }
  ]
}